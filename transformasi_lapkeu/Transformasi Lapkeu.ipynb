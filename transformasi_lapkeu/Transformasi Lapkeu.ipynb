{
 "cells": [
  {
   "cell_type": "markdown",
   "id": "a98ef0f2",
   "metadata": {},
   "source": [
    "# Transformasi Laporan Keuangan IDX Menggunakan PySpark"
   ]
  },
  {
   "cell_type": "markdown",
   "id": "fc2cf0f4",
   "metadata": {},
   "source": [
    "## Import Library"
   ]
  },
  {
   "cell_type": "code",
   "execution_count": 2,
   "id": "d4317c66",
   "metadata": {},
   "outputs": [
    {
     "name": "stdout",
     "output_type": "stream",
     "text": [
      "^C\n",
      "Note: you may need to restart the kernel to use updated packages.\n"
     ]
    },
    {
     "name": "stdout",
     "output_type": "stream",
     "text": [
      "Defaulting to user installation because normal site-packages is not writeable\n",
      "Requirement already satisfied: pyspark in c:\\users\\putra\\appdata\\roaming\\python\\python313\\site-packages (3.5.5)\n",
      "Requirement already satisfied: py4j==0.10.9.7 in c:\\users\\putra\\appdata\\roaming\\python\\python313\\site-packages (from pyspark) (0.10.9.7)\n"
     ]
    }
   ],
   "source": [
    "pip install pyspark"
   ]
  },
  {
   "cell_type": "code",
   "execution_count": null,
   "id": "16bf72d4",
   "metadata": {},
   "outputs": [],
   "source": [
    "from pyspark.sql import SparkSession\n",
    "from pyspark.sql import functions as F\n",
    "import logging\n",
    "import os"
   ]
  },
  {
   "cell_type": "markdown",
   "id": "6a43466c",
   "metadata": {},
   "source": [
    "## Koneksi dan Import MongoDB ke PySpark"
   ]
  },
  {
   "cell_type": "markdown",
   "id": "ed36882c",
   "metadata": {},
   "source": [
    "Memerlukan Hadoop, PySpark, dan MongoDB"
   ]
  },
  {
   "cell_type": "code",
   "execution_count": 4,
   "id": "904f0cd5",
   "metadata": {},
   "outputs": [
    {
     "name": "stdout",
     "output_type": "stream",
     "text": [
      "+--------------------+--------------------+--------------------+--------------------+------+\n",
      "|                 _id|               facts|           file_info|      processed_date|ticker|\n",
      "+--------------------+--------------------+--------------------+--------------------+------+\n",
      "|{67c2b17b26a23596...|{IncomeTaxesRefun...|{instance.xbrl, T...|2025-03-01 21:04:...|  AALI|\n",
      "|{67c2b1da26a23596...|{IncomeTaxesRefun...|{instance.xbrl, T...|2025-03-01 21:06:...|  ARNA|\n",
      "|{67c2b1f026a23596...|{IncomeTaxesRefun...|{instance.xbrl, T...|2025-03-01 21:06:...|  ASGR|\n",
      "|{67c2b1f226a23596...|{IncomeTaxesRefun...|{instance.xbrl, T...|2025-03-01 21:06:...|  ASII|\n",
      "|{67c2b20626a23596...|{IncomeTaxesRefun...|{instance.xbrl, T...|2025-03-01 21:06:...|  AUTO|\n",
      "|{67c2b20726a23596...|{IncomeTaxesRefun...|{instance.xbrl, T...|2025-03-01 21:06:...|  ADMF|\n",
      "|{67c2b21d26a23596...|{NonPerformingFin...|{instance.xbrl, T...|2025-03-01 21:07:...|  BACA|\n",
      "|{67c2b21f26a23596...|{NonPerformingFin...|{instance.xbrl, T...|2025-03-01 21:07:...|  BBHI|\n",
      "|{67c2b22926a23596...|{EquityPositionBe...|{instance.xbrl, T...|2025-03-01 21:07:...|  BBNI|\n",
      "|{67c2b22c26a23596...|{ReserveOfRemeasu...|{instance.xbrl, T...|2025-03-01 21:07:...|  BBRI|\n",
      "|{67c2b23426a23596...|{ReserveOfRemeasu...|{instance.xbrl, T...|2025-03-01 21:07:...|  BBTN|\n",
      "|{67c2b23d26a23596...|{TranslationAdjus...|{instance.xbrl, T...|2025-03-01 21:07:...|  BCIC|\n",
      "|{67c2b24226a23596...|{NonPerformingFin...|{instance.xbrl, T...|2025-03-01 21:07:...|  BDMN|\n",
      "|{67c2b24426a23596...|{NonPerformingFin...|{instance.xbrl, T...|2025-03-01 21:07:...|  BEKS|\n",
      "|{67c2b24726a23596...|{IncomeTaxesRefun...|{instance.xbrl, T...|2025-03-01 21:07:...|  BFIN|\n",
      "|{67c2b28126a23596...|{NonPerformingFin...|{instance.xbrl, T...|2025-03-01 21:08:...|  BMRI|\n",
      "|{67c2b28f26a23596...|{NonPerformingFin...|{instance.xbrl, T...|2025-03-01 21:09:...|  BNGA|\n",
      "|{67c2b29226a23596...|{NonPerformingFin...|{instance.xbrl, T...|2025-03-01 21:09:...|  BNII|\n",
      "|{67c2b29526a23596...|{NonPerformingFin...|{instance.xbrl, T...|2025-03-01 21:09:...|  BNLI|\n",
      "|{67c2b2c326a23596...|{NonPerformingFin...|{instance.xbrl, T...|2025-03-01 21:09:...|  BTPN|\n",
      "+--------------------+--------------------+--------------------+--------------------+------+\n",
      "only showing top 20 rows\n",
      "\n"
     ]
    }
   ],
   "source": [
    "os.environ[\"HADOOP_HOME\"] = \"C:/hadoop/hadoop-2.7.1\"\n",
    "\n",
    "\n",
    "# Konfigurasi MongoDB\n",
    "MONGO_URI = \"mongodb://localhost:27017\"\n",
    "DB_NAME = \"bigdatatugas\"\n",
    "STOCK_COLLECTION = \"2024\"\n",
    "\n",
    "# Fungsi untuk inisialisasi Spark Session\n",
    "def create_spark_session():\n",
    "    return (SparkSession.builder\n",
    "            .appName(\"Read Stock Data from MongoDB\")\n",
    "            .config(\"spark.jars.packages\", \"org.mongodb.spark:mongo-spark-connector_2.12:3.0.1\")\n",
    "            .config(\"spark.mongodb.input.uri\", f\"{MONGO_URI}/{DB_NAME}.{STOCK_COLLECTION}\")\n",
    "            .config(\"spark.executor.memory\", \"4g\")\n",
    "            .config(\"spark.driver.memory\", \"4g\")\n",
    "            .getOrCreate())\n",
    "\n",
    "\n",
    "spark = create_spark_session()\n",
    "\n",
    "\n",
    "df = spark.read.format(\"mongo\").load()\n",
    "\n",
    "df.show()"
   ]
  },
  {
   "cell_type": "markdown",
   "id": "158db5cd",
   "metadata": {},
   "source": [
    "## Transformasi"
   ]
  },
  {
   "cell_type": "code",
   "execution_count": 5,
   "id": "e88d6724",
   "metadata": {},
   "outputs": [],
   "source": [
    "def calculate_sum_if_exists(*columns):\n",
    "    \"\"\"Helper function to calculate sum only when at least one value exists.\"\"\"\n",
    "    # First check if any column is not null\n",
    "    condition = F.lit(False)\n",
    "    for col in columns:\n",
    "        condition = condition | col.isNotNull()\n",
    "    \n",
    "    # Calculate the sum with null-safe addition\n",
    "    sum_expr = F.lit(0)\n",
    "    for col in columns:\n",
    "        sum_expr = sum_expr + F.coalesce(col, F.lit(0))\n",
    "    \n",
    "    # Return the sum if any column has data, otherwise null\n",
    "    return F.when(condition, sum_expr)"
   ]
  },
  {
   "cell_type": "markdown",
   "id": "5e4ada0d",
   "metadata": {},
   "source": [
    "### Transformasi Subsektor Perbankan"
   ]
  },
  {
   "cell_type": "code",
   "execution_count": 6,
   "id": "de6ceaf4",
   "metadata": {},
   "outputs": [],
   "source": [
    "# =====================================\n",
    "# 1. BANKS: G1. Banks\n",
    "# =====================================\n",
    "banks_df = df.filter(\n",
    "    F.col(\"facts.Subsector_CurrentYearInstant.value\") == \"G1. Banks\"\n",
    ").select(\n",
    "    F.col(\"facts.EntityName_CurrentYearInstant.value\").alias(\"entity_name\"),\n",
    "    F.col(\"ticker\").alias(\"emiten\"),\n",
    "    F.col(\"facts.CurrentPeriodEndDate_CurrentYearInstant.value\").alias(\"report_date\"),\n",
    "    \n",
    "    # Revenue components\n",
    "    calculate_sum_if_exists(\n",
    "        F.col(\"facts.InterestIncome_CurrentYearDuration.value\"),\n",
    "        F.col(\"facts.SubtotalShariaIncome_CurrentYearDuration.value\")\n",
    "    ).alias(\"revenue\"),\n",
    "    \n",
    "    F.col(\"facts.ProfitFromOperation_CurrentYearDuration.value\").alias(\"gross_profit\"),\n",
    "    F.col(\"facts.ProfitFromOperation_CurrentYearDuration.value\").alias(\"operating_profit\"),\n",
    "    F.col(\"facts.ProfitLoss_CurrentYearDuration.value\").alias(\"net_profit\"),\n",
    "    F.col(\"facts.Cash_CurrentYearInstant.value\").alias(\"cash\"),\n",
    "    F.col(\"facts.Assets_CurrentYearInstant.value\").alias(\"total_assets\"),\n",
    "    \n",
    "    # Short-term borrowing\n",
    "    calculate_sum_if_exists(\n",
    "        F.col(\"facts.BorrowingsThirdParties_CurrentYearInstant.value\"),\n",
    "        F.col(\"facts.BorrowingsRelatedParties_CurrentYearInstant.value\")\n",
    "    ).alias(\"short_term_borrowing\"),\n",
    "    \n",
    "    # Long-term borrowing\n",
    "    calculate_sum_if_exists(\n",
    "        F.col(\"facts.SubordinatedLoansThirdParties_CurrentYearInstant.value\"),\n",
    "        F.col(\"facts.SubordinatedLoansRelatedParties_CurrentYearInstant.value\")\n",
    "    ).alias(\"long_term_borrowing\"),\n",
    "    \n",
    "    F.col(\"facts.Equity_CurrentYearInstant.value\").alias(\"total_equity\"),\n",
    "    F.col(\"facts.Liabilities_CurrentYearInstant.value\").alias(\"liabilities\"),\n",
    "    F.col(\"facts.NetCashFlowsReceivedFromUsedInOperatingActivities_CurrentYearDuration.value\").alias(\"cash_dari_operasi\"),\n",
    "    F.col(\"facts.NetCashFlowsReceivedFromUsedInInvestingActivities_CurrentYearDuration.value\").alias(\"cash_dari_investasi\"),\n",
    "    F.col(\"facts.NetCashFlowsReceivedFromUsedInFinancingActivities_CurrentYearDuration.value\").alias(\"cash_dari_pendanaan\")\n",
    ")"
   ]
  },
  {
   "cell_type": "markdown",
   "id": "1df5c1b9",
   "metadata": {},
   "source": [
    "### Transformasi Subsektor Financing"
   ]
  },
  {
   "cell_type": "code",
   "execution_count": 7,
   "id": "bf26f7b6",
   "metadata": {},
   "outputs": [],
   "source": [
    "# =====================================\n",
    "# 2. FINANCING SERVICES: G2. Financing Service\n",
    "# =====================================\n",
    "financing_df = df.filter(\n",
    "    F.col(\"facts.Subsector_CurrentYearInstant.value\") == \"G2. Financing Service\"\n",
    ").select(\n",
    "    F.col(\"facts.EntityName_CurrentYearInstant.value\").alias(\"entity_name\"),\n",
    "    F.col(\"ticker\").alias(\"emiten\"),\n",
    "    F.col(\"facts.CurrentPeriodEndDate_CurrentYearInstant.value\").alias(\"report_date\"),\n",
    "    \n",
    "    # Revenue - calculate only if at least one component exists\n",
    "    calculate_sum_if_exists(\n",
    "        F.col(\"facts.IncomeFromMurabahahAndIstishna_CurrentYearDuration.value\"),\n",
    "        F.col(\"facts.IncomeFromConsumerFinancing_CurrentYearDuration.value\"),\n",
    "        F.col(\"facts.IncomeFromFinanceLease_CurrentYearDuration.value\"),\n",
    "        F.col(\"facts.AdministrationIncome_CurrentYearDuration.value\"),\n",
    "        F.col(\"facts.IncomeFromProvisionsAndCommissions_CurrentYearDuration.value\")\n",
    "    ).alias(\"revenue\"),\n",
    "    \n",
    "    # Gross profit\n",
    "    calculate_sum_if_exists(\n",
    "        F.col(\"facts.ProfitLossBeforeIncomeTax_CurrentYearDuration.value\"),\n",
    "        F.col(\"facts.DepreciationOfInvestmentPropertyLeaseAssetsPropertyAndEquipmentForeclosedAssetsAndIjarahAssets_CurrentYearDuration.value\")\n",
    "    ).alias(\"gross_profit\"),\n",
    "    \n",
    "    F.col(\"facts.ProfitLossBeforeIncomeTax_CurrentYearDuration.value\").alias(\"operating_profit\"),\n",
    "    F.col(\"facts.ProfitLoss_CurrentYearDuration.value\").alias(\"net_profit\"),\n",
    "    F.col(\"facts.CashAndCashEquivalents_CurrentYearInstant.value\").alias(\"cash\"),\n",
    "    F.col(\"facts.Assets_CurrentYearInstant.value\").alias(\"total_assets\"),\n",
    "    \n",
    "    # Short-term borrowing\n",
    "    calculate_sum_if_exists(\n",
    "        F.col(\"facts.BorrowingsThirdParties_CurrentYearInstant.value\"),\n",
    "        F.col(\"facts.CurrentAccountsWithOtherBanksThirdParties_CurrentYearInstant.value\")\n",
    "    ).alias(\"short_term_borrowing\"),\n",
    "    \n",
    "    # Long-term borrowing\n",
    "    calculate_sum_if_exists(\n",
    "        F.col(\"facts.BorrowingsRelatedParties_CurrentYearInstant.value\"),\n",
    "        F.col(\"facts.BondsPayable_CurrentYearInstant.value\"),\n",
    "        F.col(\"facts.Sukuk_CurrentYearInstant.value\")\n",
    "    ).alias(\"long_term_borrowing\"),\n",
    "    \n",
    "    F.col(\"facts.Equity_CurrentYearInstant.value\").alias(\"total_equity\"),\n",
    "    F.col(\"facts.Liabilities_CurrentYearInstant.value\").alias(\"liabilities\"),\n",
    "    F.col(\"facts.NetCashFlowsReceivedFromUsedInOperatingActivities_CurrentYearDuration.value\").alias(\"cash_dari_operasi\"),\n",
    "    F.col(\"facts.NetCashFlowsReceivedFromUsedInInvestingActivities_CurrentYearDuration.value\").alias(\"cash_dari_investasi\"),\n",
    "    F.col(\"facts.NetCashFlowsReceivedFromUsedInFinancingActivities_CurrentYearDuration.value\").alias(\"cash_dari_pendanaan\")\n",
    ")"
   ]
  },
  {
   "cell_type": "markdown",
   "id": "4f328c84",
   "metadata": {},
   "source": [
    "### Transformasi Subsektor Investment"
   ]
  },
  {
   "cell_type": "code",
   "execution_count": 8,
   "id": "a653fe9a",
   "metadata": {},
   "outputs": [],
   "source": [
    "# =====================================\n",
    "# 3. INVESTMENT SERVICE: G3. Investment Service\n",
    "# =====================================\n",
    "investment_df = df.filter(\n",
    "    F.col(\"facts.Subsector_CurrentYearInstant.value\") == \"G3. Investment Service\"\n",
    ").select(\n",
    "    F.col(\"ticker\").alias(\"emiten\"),\n",
    "    F.col(\"facts.EntityName_CurrentYearInstant.value\").alias(\"entity_name\"),\n",
    "    F.col(\"facts.CurrentPeriodEndDate_CurrentYearInstant.value\").alias(\"report_date\"),\n",
    "\n",
    "    # Income Statement\n",
    "    calculate_sum_if_exists(\n",
    "        F.col(\"facts.IncomeFromBrokerageActivity_CurrentYearDuration.value\"),\n",
    "        F.col(\"facts.IncomeFromUnderwritingActivitiesAndSellingFees_CurrentYearDuration.value\"),\n",
    "        F.col(\"facts.IncomeFromInvestmentManagementServices_CurrentYearDuration.value\")\n",
    "    ).alias(\"revenue\"),\n",
    "\n",
    "    # Gross profit calculation with conditional check\n",
    "    F.when(\n",
    "        (F.col(\"facts.IncomeFromBrokerageActivity_CurrentYearDuration.value\").isNotNull() |\n",
    "         F.col(\"facts.IncomeFromUnderwritingActivitiesAndSellingFees_CurrentYearDuration.value\").isNotNull() |\n",
    "         F.col(\"facts.IncomeFromInvestmentManagementServices_CurrentYearDuration.value\").isNotNull()) &\n",
    "        F.col(\"facts.GeneralAndAdministrativeExpenses_CurrentYearDuration.value\").isNotNull(),\n",
    "        F.coalesce(F.col(\"facts.IncomeFromBrokerageActivity_CurrentYearDuration.value\"), F.lit(0)) +\n",
    "        F.coalesce(F.col(\"facts.IncomeFromUnderwritingActivitiesAndSellingFees_CurrentYearDuration.value\"), F.lit(0)) +\n",
    "        F.coalesce(F.col(\"facts.IncomeFromInvestmentManagementServices_CurrentYearDuration.value\"), F.lit(0)) -\n",
    "        F.col(\"facts.GeneralAndAdministrativeExpenses_CurrentYearDuration.value\")\n",
    "    ).alias(\"gross_profit\"),\n",
    "\n",
    "    F.col(\"facts.ProfitLossBeforeIncomeTax_CurrentYearDuration.value\").alias(\"operating_profit\"),\n",
    "    F.col(\"facts.ProfitLoss_CurrentYearDuration.value\").alias(\"net_profit\"),\n",
    "\n",
    "    # Balance Sheet\n",
    "    F.col(\"facts.CashAndCashEquivalents_CurrentYearInstant.value\").alias(\"cash\"),\n",
    "    F.col(\"facts.Assets_CurrentYearInstant.value\").alias(\"total_assets\"),\n",
    "    F.col(\"facts.BankLoans_CurrentYearInstant.value\").alias(\"short_term_borrowing\"),\n",
    "    \n",
    "    # Long-term borrowing: only calculate if both components are available\n",
    "    F.when(\n",
    "        F.col(\"facts.BankLoans_PriorEndYearInstant.value\").isNotNull() &\n",
    "        F.col(\"facts.BankLoans_CurrentYearInstant.value\").isNotNull(),\n",
    "        F.col(\"facts.BankLoans_PriorEndYearInstant.value\") - F.col(\"facts.BankLoans_CurrentYearInstant.value\")\n",
    "    ).alias(\"long_term_borrowing\"),\n",
    "    \n",
    "    F.col(\"facts.Equity_CurrentYearInstant.value\").alias(\"total_equity\"),\n",
    "    F.col(\"facts.Liabilities_CurrentYearInstant.value\").alias(\"liabilities\"),\n",
    "\n",
    "    # Cash Flow\n",
    "    F.col(\"facts.NetCashFlowsReceivedFromUsedInOperatingActivities_CurrentYearDuration.value\").alias(\"cash_dari_operasi\"),\n",
    "    F.col(\"facts.NetCashFlowsReceivedFromUsedInInvestingActivities_CurrentYearDuration.value\").alias(\"cash_dari_investasi\"),\n",
    "    F.col(\"facts.NetCashFlowsReceivedFromUsedInFinancingActivities_CurrentYearDuration.value\").alias(\"cash_dari_pendanaan\")\n",
    ")"
   ]
  },
  {
   "cell_type": "markdown",
   "id": "2c202849",
   "metadata": {},
   "source": [
    "### Transformasi Subsektor Insurance"
   ]
  },
  {
   "cell_type": "code",
   "execution_count": 9,
   "id": "ef5f51e7",
   "metadata": {},
   "outputs": [],
   "source": [
    "# =====================================\n",
    "# 4. INSURANCE: G4. Insurance\n",
    "# =====================================\n",
    "insurance_df = df.filter(\n",
    "    F.col(\"facts.Subsector_CurrentYearInstant.value\") == \"G4. Insurance\"\n",
    ").select(\n",
    "    F.col(\"facts.EntityName_CurrentYearInstant.value\").alias(\"entity_name\"),\n",
    "    F.col(\"ticker\").alias(\"emiten\"),\n",
    "    F.col(\"facts.CurrentPeriodEndDate_CurrentYearInstant.value\").alias(\"report_date\"),\n",
    "    F.col(\"facts.RevenueFromInsurancePremiums_CurrentYearDuration.value\").alias(\"revenue\"),\n",
    "    \n",
    "    # Gross profit calculation with conditional check\n",
    "    F.when(\n",
    "        F.col(\"facts.RevenueFromInsurancePremiums_CurrentYearDuration.value\").isNotNull() &\n",
    "        (F.col(\"facts.ClaimExpenses_CurrentYearDuration.value\").isNotNull() |\n",
    "         F.col(\"facts.ReinsuranceClaims_CurrentYearDuration.value\").isNotNull()),\n",
    "        F.col(\"facts.RevenueFromInsurancePremiums_CurrentYearDuration.value\") -\n",
    "        F.coalesce(F.col(\"facts.ClaimExpenses_CurrentYearDuration.value\"), F.lit(0)) -\n",
    "        F.coalesce(F.col(\"facts.ReinsuranceClaims_CurrentYearDuration.value\"), F.lit(0))\n",
    "    ).alias(\"gross_profit\"),\n",
    "    \n",
    "    F.col(\"facts.ProfitLossBeforeIncomeTax_CurrentYearDuration.value\").alias(\"operating_profit\"),\n",
    "    F.col(\"facts.ProfitLoss_CurrentYearDuration.value\").alias(\"net_profit\"),\n",
    "    F.col(\"facts.CashAndCashEquivalents_CurrentYearInstant.value\").alias(\"cash\"),\n",
    "    F.col(\"facts.Assets_CurrentYearInstant.value\").alias(\"total_assets\"),\n",
    "    \n",
    "    # Short-term borrowing\n",
    "    calculate_sum_if_exists(\n",
    "        F.col(\"facts.ClaimPayables_CurrentYearInstant.value\"),\n",
    "        F.col(\"facts.ReinsurancePayables_CurrentYearInstant.value\")\n",
    "    ).alias(\"short_term_borrowing\"),\n",
    "    \n",
    "    F.col(\"facts.InsuranceLiabilitiesForFuturePolicyBenefits_CurrentYearInstant.value\").alias(\"long_term_borrowing\"),\n",
    "    F.col(\"facts.Equity_CurrentYearInstant.value\").alias(\"total_equity\"),\n",
    "    F.col(\"facts.Liabilities_CurrentYearInstant.value\").alias(\"liabilities\"),\n",
    "    F.col(\"facts.NetCashFlowsReceivedFromUsedInOperatingActivities_CurrentYearDuration.value\").alias(\"cash_dari_operasi\"),\n",
    "    F.col(\"facts.NetCashFlowsReceivedFromUsedInInvestingActivities_CurrentYearDuration.value\").alias(\"cash_dari_investasi\"),\n",
    "    F.col(\"facts.NetCashFlowsReceivedFromUsedInFinancingActivities_CurrentYearDuration.value\").alias(\"cash_dari_pendanaan\")\n",
    ")"
   ]
  },
  {
   "cell_type": "markdown",
   "id": "e89f767f",
   "metadata": {},
   "source": [
    "### Transformasi Emiten Umum (Non-bank, non-financing, non-insurance, non-investment)"
   ]
  },
  {
   "cell_type": "code",
   "execution_count": 10,
   "id": "c0acc2f1",
   "metadata": {},
   "outputs": [],
   "source": [
    "# =====================================\n",
    "# 5. OTHER SECTORS (non-bank, non-finance, non-insurance)\n",
    "# =====================================\n",
    "non_special_df = df.filter(\n",
    "    ~F.col(\"facts.Subsector_CurrentYearInstant.value\").isin([\"G1. Banks\", \"G2. Financing Service\", \"G3. Investment Service\", \"G4. Insurance\"])\n",
    ").select(\n",
    "    F.col(\"facts.EntityName_CurrentYearInstant.value\").alias(\"entity_name\"),\n",
    "    F.col(\"ticker\").alias(\"emiten\"),\n",
    "    F.col(\"facts.CurrentPeriodEndDate_CurrentYearInstant.value\").alias(\"report_date\"),\n",
    "    F.col(\"facts.SalesAndRevenue_CurrentYearDuration.value\").alias(\"revenue\"),\n",
    "    F.col(\"facts.GrossProfit_CurrentYearDuration.value\").alias(\"gross_profit\"),\n",
    "    F.col(\"facts.ProfitLossBeforeIncomeTax_CurrentYearDuration.value\").alias(\"operating_profit\"),\n",
    "    F.col(\"facts.ProfitLoss_CurrentYearDuration.value\").alias(\"net_profit\"),\n",
    "    F.col(\"facts.CashAndCashEquivalents_CurrentYearInstant.value\").alias(\"cash\"),\n",
    "    F.col(\"facts.Assets_CurrentYearInstant.value\").alias(\"total_assets\"),\n",
    "    \n",
    "    # Use coalesce to find first non-null value for short-term borrowing\n",
    "    F.coalesce(\n",
    "        F.col(\"facts.ShortTermBankLoans_CurrentYearInstant.value\"),\n",
    "        F.col(\"facts.CurrentMaturitiesOfBankLoans_CurrentYearInstant.value\"),\n",
    "        F.col(\"facts.OtherCurrentFinancialLiabilities_CurrentYearInstant.value\"),\n",
    "        F.col(\"facts.ShortTermDerivativeFinancialLiabilities_CurrentYearInstant.value\"),\n",
    "        F.col(\"facts.CurrentAdvancesFromCustomersThirdParties_CurrentYearInstant.value\")\n",
    "    ).alias(\"short_term_borrowing\"),\n",
    "    \n",
    "    F.col(\"facts.LongTermBankLoans_CurrentYearInstant.value\").alias(\"long_term_borrowing\"),\n",
    "    F.col(\"facts.Equity_CurrentYearInstant.value\").alias(\"total_equity\"),\n",
    "    F.col(\"facts.Liabilities_CurrentYearInstant.value\").alias(\"liabilities\"),\n",
    "    F.col(\"facts.NetCashFlowsReceivedFromUsedInOperatingActivities_CurrentYearDuration.value\").alias(\"cash_dari_operasi\"),\n",
    "    F.col(\"facts.NetCashFlowsReceivedFromUsedInInvestingActivities_CurrentYearDuration.value\").alias(\"cash_dari_investasi\"),\n",
    "    F.col(\"facts.NetCashFlowsReceivedFromUsedInFinancingActivities_CurrentYearDuration.value\").alias(\"cash_dari_pendanaan\")\n",
    ")"
   ]
  },
  {
   "cell_type": "markdown",
   "id": "dab7a72d",
   "metadata": {},
   "source": [
    "### Menggabungkan seluruh data"
   ]
  },
  {
   "cell_type": "code",
   "execution_count": 11,
   "id": "59b1212c",
   "metadata": {},
   "outputs": [
    {
     "name": "stdout",
     "output_type": "stream",
     "text": [
      "+-----------------------------------------------+------+-----------+-----------------+---------------+----------------+--------------+--------------+----------------+--------------------+-------------------+---------------+----------------+-----------------+-------------------+-------------------+\n",
      "|entity_name                                    |emiten|report_date|revenue          |gross_profit   |operating_profit|net_profit    |cash          |total_assets    |short_term_borrowing|long_term_borrowing|total_equity   |liabilities     |cash_dari_operasi|cash_dari_investasi|cash_dari_pendanaan|\n",
      "+-----------------------------------------------+------+-----------+-----------------+---------------+----------------+--------------+--------------+----------------+--------------------+-------------------+---------------+----------------+-----------------+-------------------+-------------------+\n",
      "|PT Wahana Ottomitra Multiartha Tbk             |WOMF  |2024-12-31 |1.856807E12      |4.10065E11     |329013000000    |262915000000  |5640000000    |6946341000000   |1.63782E11          |2.240119E12        |1892101000000  |5054240000000   |239589000000     |-98107000000       |54967000000        |\n",
      "|PT Victoria Insurance Tbk.                     |VINS  |2024-12-31 |123972834294     |7.4619107982E10|7436551047      |7006375716    |1254672807    |243101289401    |2.7038458482E10     |5188835201         |152114722955   |90986566446     |5198519747       |-5976901464        |-1129353588        |\n",
      "|Unilever Indonesia Tbk                         |UNVR  |2024-12-31 |35138643000000   |16719681000000 |4350424000000   |3368693000000 |671180000000  |16046195000000  |1450000000000       |NULL               |2149267000000  |13896928000000  |3959982000000    |-1014874000000     |-3294681000000     |\n",
      "|United Tractors Tbk                            |UNTR  |2024-12-31 |134426998000000  |33831560000000 |25897052000000  |20118529000000|25092519000000|169480618000000 |402430000000        |14862421000000     |98175173000000 |71305445000000  |30044864000000   |-14202531000000    |-9468173000000     |\n",
      "|PT Ultrajaya Milk Industry  Trading Company Tbk|ULTJ  |2024-12-31 |8874202000000    |3021777000000  |1506963000000   |1153916000000 |2434322000000 |8461365000000   |1694000000          |NULL               |7426918000000  |1034447000000   |1261583000000    |-557522000000      |-444063000000      |\n",
      "|PT Uni-Charm Indonesia Tbk.                    |UCID  |2024-12-31 |9675468000000    |1975335000000  |461629000000    |350441000000  |1795306000000 |8658345000000   |0                   |NULL               |5867170000000  |2791175000000   |395304000000     |-253928000000      |-200198000000      |\n",
      "|PT Temas Tbk.                                  |TMAS  |2024-12-31 |4344406000000    |900189000000   |862000000000    |721499000000  |670732000000  |4409507000000   |0                   |755905000000       |2859576000000  |1549931000000   |992278000000     |-773456000000      |-445647000000      |\n",
      "|PT Triputra Agro Persada Tbk.                  |TAPG  |2024-12-31 |9671463000000    |3722778000000  |3926904000000   |3240599000000 |1309216000000 |14307265000000  |620000000000        |329996000000       |11276429000000 |3030836000000   |3239185000000    |576160000000       |-3516260000000     |\n",
      "|GOLDEN EAGLE ENERGY Tbk                        |SMMT  |2024-12-31 |816953682813     |44227396209    |39036159163     |35791015208   |144800653997  |1286377299462   |1500000000          |NULL               |848378770043   |437998529419    |242292899149     |-143457796785      |NULL               |\n",
      "|Suryamas Dutamakmur Tbk                        |SMDM  |2024-12-31 |694045208919     |397305210275   |163906737873    |162603250072  |276105517459  |3462272048915   |26627205723         |50073675836        |3210653802900  |251618246015    |-69679968003     |-11185258382       |35192495701        |\n",
      "|PT Sinar Mas Agro Resources and Technology Tbk |SMAR  |2024-12-31 |78835443000000   |8014053000000  |1585442000000   |1278269000000 |1585735000000 |45333131000000  |5133731000000       |8930370000000      |19883057000000 |25450074000000  |-252837000000    |-2119047000000     |2293974000000      |\n",
      "|Salim Ivomas Pratama Tbk                       |SIMP  |2024-12-31 |15967804000000   |4837828000000  |2985104000000   |2183650000000 |5752380000000 |37247829000000  |5843941000000       |1689898000000      |23987435000000 |13260394000000  |2299715000000    |-1529429000000     |-249995000000      |\n",
      "|PT Bank Woori Saudara Indonesia 1906 Tbk       |SDRA  |2024-12-31 |4.098569E12      |679984000000   |679984000000    |516131000000  |568640000000  |58732835000000  |1.1488E13           |NULL               |13781185000000 |44951650000000  |-1266390000000   |-1102795000000     |2058292000000      |\n",
      "|PT Cikarang Listrindo Tbk.                     |POWR  |2024-12-31 |547019675        |111320943      |103908077       |75344585      |191318579     |1336682552      |NULL                |NULL               |708044164      |628638388       |148849387        |-126523238         |-72102546          |\n",
      "|PT Bank Panin Dubai Syariah Tbk.               |PNBS  |2024-12-31 |1.158746856E12   |104400941000   |104400941000    |88568492000   |21789491000   |16797156107000  |NULL                |NULL               |2852256529000  |2282936872000   |-845678877000    |-24092737000       |NULL               |\n",
      "|Bank Pan Indonesia Tbk                         |PNBN  |2024-12-31 |1.545397E13      |3670699000000  |3670699000000   |2866763000000 |1809940000000 |243958575000000 |2.937757E12         |NULL               |56069616000000 |176226996000000 |19021692000000   |-19293524000000    |1610013000000      |\n",
      "|Pembangunan Jaya Ancol Tbk                     |PJAA  |2024-12-31 |1265897000000    |666773000000   |277535000000    |176287000000  |292786000000  |3591730000000   |244775000000        |0                  |1733878000000  |1857852000000   |163815000000     |-153589000000      |-129205000000      |\n",
      "|Panin Sekuritas Tbk                            |PANS  |2024-12-31 |2.77260550842E11 |9.2802517381E10|154363851355    |118112167031  |40803048589   |2000890508730   |38000000000         |6.4E10             |1555332597046  |445557911684    |231410700463     |-6581143531        |-193157184000      |\n",
      "|PT Bank OCBC NISP Tbk                          |NISP  |2024-12-31 |1.7819661E13     |5705828000000  |5705828000000   |4866750000000 |1204265000000 |281008237000000 |2.744498E12         |1.6095E11          |40691379000000 |240316858000000 |36996784000000   |-27537850000000    |-1654734000000     |\n",
      "|Pelat Timah Nusantara Tbk                      |NIKL  |2024-12-31 |155728216        |9393654        |308707          |-18852        |8441057       |135260257       |62780077            |NULL               |55848179       |79412078        |2950380          |-511495            |-4023004           |\n",
      "|PT Charnic Capital Tbk.                        |NICK  |2024-12-31 |6436780052       |6436780052     |8360547858      |8360547858    |91907245626   |205609972532    |NULL                |NULL               |203494688791   |2115283741      |32147008820      |NULL               |NULL               |\n",
      "|Mayora Indah Tbk                               |MYOR  |2024-12-31 |36072949285930   |8302299314257  |3881094493336   |3067667675407 |4601449023397 |29728781933757  |2745000000000       |2089978791134      |17102428334570 |12626353599187  |-463359496912    |-1628862779286     |2428387224779      |\n",
      "|Bank Mega Tbk                                  |MEGA  |2024-12-31 |1.0289306E13     |3231218000000  |3231218000000   |2631054000000 |873509000000  |134915494000000 |3.9876E12           |5.0E10             |21182201000000 |113733293000000 |15463034000000   |-15577066000000    |-1379527000000     |\n",
      "|PT Bank China Construction Bank Indonesia Tbk  |MCOR  |2024-12-31 |2.14194E12       |375542000000   |375542000000    |295402000000  |169338000000  |33545461000000  |4.8285E11           |0.0                |6841796000000  |26703665000000  |2470595000000    |-2298583000000     |4994000000         |\n",
      "|PT Prima Andalan Mandiri Tbk                   |MCOL  |2024-12-31 |766734814        |202585186      |146515045       |116915568     |151688271     |759216464       |2447891             |NULL               |581699560      |177516904       |120450190        |-20215623          |-171598323         |\n",
      "|PP London Sumatra Indonesia Tbk                |LSIP  |2024-12-31 |4562503000000    |1991961000000  |1773053000000   |1475654000000 |5453691000000 |13841956000000  |18883000000         |NULL               |12556754000000 |1285202000000   |1565333000000    |-419795000000      |-270103000000      |\n",
      "|PT Link Net Tbk.                               |LINK  |2024-12-31 |2520686000000    |NULL           |-1771785000000  |-1185302000000|436038000000  |13916787000000  |1025000000000       |4783460000000      |5005203000000  |8911584000000   |1702214000000    |-546411000000      |-957098000000      |\n",
      "|JAPFA Comfeed Indonesia Tbk                    |JPFA  |2024-12-31 |55800849000000   |11218130000000 |4241472000000   |3212338000000 |1353714000000 |34666283000000  |2075731000000       |1800811000000      |16572522000000 |18093761000000  |4860422000000    |-1673130000000     |-3389406000000     |\n",
      "|Jakarta Kyoei Steel Works Tbk                  |JKSW  |2024-12-31 |NULL             |NULL           |NULL            |-4238512225   |9777575746    |153622905312    |NULL                |NULL               |-498117378488  |651740283800    |3572338887       |NULL               |NULL               |\n",
      "|Indo Tambangraya Megah Tbk                     |ITMG  |2024-12-31 |2304497000       |698810000      |494821000       |375601000     |990364000     |2406544000      |20800000            |44864000           |1933810000     |472734000       |452133000        |-109074000         |-198882000         |\n",
      "|PT Indosat Tbk                                 |ISAT  |2024-12-31 |55886870000000   |NULL           |6732525000000   |5272412000000 |4454098000000 |114386698000000 |1549800000000       |7489863000000      |36651797000000 |77734901000000  |19096086000000   |-12464804000000    |-7380381000000     |\n",
      "|PT Indo-Rama Synthetics Tbk                    |INDR  |2024-12-31 |856291515        |1037163        |-27953543       |-18803608     |26782444      |777594299       |30100000            |78787500           |397146818      |380447481       |32204414         |-11207555          |-6477542           |\n",
      "|Vale Indonesia Tbk                             |INCO  |2024-12-31 |950388000        |108228000      |74060000        |57761000      |674690000     |3176528000      |1732000             |NULL               |2732776000     |443752000       |207486000        |-331772000         |102282000          |\n",
      "|PT Ifishdeco Tbk.                              |IFSH  |2024-12-31 |972709803235     |481257196465   |143447129299    |100113169013  |149472720101  |1007971015427   |42355143005         |25011517844        |838036610799   |169934404628    |222271357545     |-94746122207       |-123083430049      |\n",
      "|PT Habco Trans Maritima Tbk                    |HATM  |2024-12-31 |748198618716     |209027754357   |150509059251    |141530675927  |54046280445   |1373383918028   |125750428309        |159938749989       |971037648646   |402346269382    |198575964378     |-443622217079      |177463761630       |\n",
      "|PT Hasnur Internasional Shipping Tbk           |HAIS  |2024-12-31 |1018111562653    |242534964333   |136449296047    |121286577649  |164738143232  |1199584807078   |54930247797         |192624375316       |762450402148   |437134404930    |197509785240     |-293469760003      |112544020495       |\n",
      "|PT Lini Imaji Kreasi Ekosistem Tbk             |FUTR  |2024-12-31 |94004122884      |19123669046    |6778963282      |4735428930    |33537477381   |231800711040    |10995248823         |NULL               |189917627622   |41883083418     |21579615545      |-18095163561       |19837628968        |\n",
      "|PT Fuji Finance Indonesia Tbk.                 |FUJI  |2024-12-31 |1.3313179773E10  |1.3512665452E10|13381048127     |11035225606   |82982444968   |176523544166    |NULL                |NULL               |172567169047   |3956375119      |-41475264690     |-1533200           |-614342659         |\n",
      "|PT Smartfren Telecom Tbk                       |FREN  |2024-12-31 |11419725000000   |11419725000000 |-1286363000000  |-1294976000000|155311000000  |43184370000000  |300000000000        |6499178000000      |21448340000000 |21736030000000  |2365219000000    |-1533396000000     |-902526000000      |\n",
      "|Fajar Surya Wisesa Tbk                         |FASW  |2024-12-31 |7698331000000    |-414316000000  |-1385657000000  |-1105194000000|71962000000   |12661571000000  |5030537000000       |1702071000000      |3321258000000  |9340313000000   |-721985000000    |-341666000000      |951679000000       |\n",
      "|PT XL Axiata Tbk                               |EXCL  |2024-12-31 |34391597000000   |NULL           |2427225000000   |1847631000000 |1386637000000 |86178565000000  |2254112000000       |6592866000000      |26222372000000 |59956193000000  |18153806000000   |-11685716000000    |-6054212000000     |\n",
      "|ESSA Industries Indonesia Tbk                  |ESSA  |2024-12-31 |301401837        |108040974      |76694885        |60488161      |157471279     |693675660       |34000000            |16016645           |553876169      |139799491       |142810316        |-1742              |-83541090          |\n",
      "|PT Eastparc Hotel Tbk                          |EAST  |2024-12-31 |102928711695     |77210900445    |42657321477     |34718102354   |8569493958    |487157633543    |5000000000          |NULL               |460956170535   |26201463008     |40007661349      |-4894232346        |-33023494758       |\n",
      "|PT Dwi Guna Laksana Tbk                        |DWGL  |2024-12-31 |3337271882000    |322744399000   |149854292000    |118414810000  |439265076000  |1600005249000   |40908626000         |NULL               |275058806000   |1324946443000   |192277062000     |-57477878000       |-78286810000       |\n",
      "|PT Dharma Satya Nusantara Tbk.                 |DSNG  |2024-12-31 |10119220000000   |3004201000000  |1640016000000   |1141375000000 |557023000000  |17412416000000  |476957000000        |3971671000000      |9897315000000  |7515101000000   |2150615000000    |-1856503000000     |-172811000000      |\n",
      "|PT Puradelta Lestari Tbk.                      |DMAS  |2024-12-31 |2032677883645    |1415474815679  |1373783484718   |1334630810498 |1759472182729 |8254678433726   |500000000000        |NULL               |7214501956656  |1040176477070   |748391940068     |-515787859329      |498977138800       |\n",
      "|PT Nusantara Sejahtera Raya Tbk                |CNMA  |2024-12-31 |5711782000000    |3406588000000  |998828000000    |802544000000  |2024824000000 |7008510000000   |NULL                |NULL               |4600702000000  |2407808000000   |1643741000000    |-907776000000      |-1397959000000     |\n",
      "|PT Cisarua Mountain Dairy Tbk                  |CMRY  |2024-12-31 |9025658000000    |4082870000000  |1904792000000   |1519425000000 |1280356000000 |8191571000000   |NULL                |NULL               |6752148000000  |1439423000000   |1728059000000    |-1929255000000     |-715844000000      |\n",
      "|Eagle High Plantations Tbk                     |BWPT  |2024-12-31 |4302676000000    |1254425000000  |466106000000    |272132000000  |58080000000   |9794380000000   |290776000000        |2910631000000      |2452089000000  |7342291000000   |833792000000     |39059000000        |-1665269000000     |\n",
      "|PT Bank BTPN Syariah Tbk.                      |BTPS  |2024-12-31 |5.398377E12      |1350655000000  |1350655000000   |1061160000000 |592911000000  |21747580000000  |0.0                 |0.0                |9316594000000  |2831634000000   |1845540000000    |-2121473000000     |-340397000000      |\n",
      "|PT Bank SMBC Indonesia Tbk                     |BTPN  |2024-12-31 |2.8986712E13     |4104017000000  |4104017000000   |3216240000000 |1379647000000 |241096427000000 |4.9413885E13        |3.219E12           |54746039000000 |176751036000000 |10829769000000   |-16764391000000    |8624877000000      |\n",
      "|PT Bank Syariah Indonesia Tbk                  |BRIS  |2024-12-31 |2.5298203E13     |9046083000000  |9046083000000   |7005888000000 |8080689000000 |408613432000000 |1.0E12              |NULL               |45041572000000 |106647971000000 |6812261000000    |6345483000000      |8749006000000      |\n",
      "|Bank Permata Tbk                               |BNLI  |2024-12-31 |1.7213039E13     |4631745000000  |4631745000000   |3566519000000 |1661729000000 |259067503000000 |NULL                |1.0849329E13       |42603182000000 |216464321000000 |7877406000000    |-18415762000000    |-196533000000      |\n",
      "|PT Bank Maybank Indonesia Tbk                  |BNII  |2024-12-31 |1.5698969E13     |1588640000000  |1588640000000   |1198643000000 |1861870000000 |197179822000000 |1.4426809E13        |9.9484E10          |31208391000000 |165971431000000 |-7313663000000   |-7229844000000     |18004763000000     |\n",
      "|PT Bank CIMB Niaga Tbk                         |BNGA  |2024-12-31 |2.4227316E13     |8362887000000  |8362887000000   |6898934000000 |3650137000000 |360220510000000 |8.487935E12         |7.4514E10          |53196327000000 |307024183000000 |8221937000000    |-7727990000000     |-842805000000      |\n",
      "|PT Bank Mandiri (Persero) Tbk                  |BMRI  |2024-12-31 |1.72833413E14    |76059595000000 |76059595000000  |61165121000000|31665082000000|2427223262000000|1.47915981E14       |4.03562E11         |313474681000000|1860408316000000|-26186927000000  |17730695000000     |4477800000000      |\n",
      "|BFI Finance Indonesia Tbk                      |BFIN  |2024-12-31 |6.010929E12      |2.110808E12    |1926614000000   |1564674000000 |1614126000000 |25119820000000  |1.0822571E13        |2.935877E12        |10181665000000 |14938155000000  |489540000000     |-105240000000      |-509833000000      |\n",
      "|PT Bank Pembangunan Daerah Banten Tbk.         |BEKS  |2024-12-31 |4.91804E11       |96153000000    |96153000000     |39329000000   |133328000000  |7551115000000   |NULL                |NULL               |1703696000000  |5847419000000   |200710000000     |-9601000000        |NULL               |\n",
      "|PT Bank Danamon Indonesia Tbk                  |BDMN  |2024-12-31 |2.2788935E13     |4240309000000  |4240309000000   |3290885000000 |2467706000000 |242334540000000 |1.0450188E13        |2.5E10             |51825557000000 |190508983000000 |-28007000000     |-9430971000000     |5822782000000      |\n",
      "|PT Bank JTrust Indonesia Tbk.                  |BCIC  |2024-12-31 |3.024176E12      |98393000000    |98393000000     |2832000000    |331700000000  |40258696000000  |NULL                |NULL               |3794156000000  |36464540000000  |-1186508000000   |-1438673000000     |50696000000        |\n",
      "|PT Bank Tabungan Negara (Persero) Tbk          |BBTN  |2024-12-31 |2.5472625E13     |3824713000000  |3824713000000   |3007328000000 |2105620000000 |469614502000000 |3.3485084E13        |6.328105E12        |32571889000000 |407794597000000 |-8755616000000   |-5306340000000     |-3517424000000     |\n",
      "|PT Bank Rakyat Indonesia (Persero) Tbk         |BBRI  |2024-12-31 |1.99266252E14    |78578018000000 |78578018000000  |60643808000000|29783642000000|1992983447000000|1.27879804E14       |4.91781E11         |323189047000000|1669794400000000|24100898000000   |-319696000000      |-37148061000000    |\n",
      "|PT Bank Negara Indonesia (Persero) Tbk         |BBNI  |2024-12-31 |6.658311E13      |26615913000000 |26615913000000  |21669397000000|13709930000000|1129805637000000|4.2931444E13        |NULL               |167186553000000|962619084000000 |-63217913000000  |-5270105000000     |17718443000000     |\n",
      "|PT Allo Bank Indonesia Tbk                     |BBHI  |2024-12-31 |1.486931004055E12|598822913659   |598822913659    |467105739014  |1955245700    |13984013771497  |NULL                |NULL               |7265736493255  |6718277278242   |871727055400     |231541704778       |-13983764315       |\n",
      "|PT Bank Central Asia Tbk.                      |BBCA  |2024-12-31 |9.5601559E13     |68217850000000 |68217850000000  |54851274000000|29315878000000|1449301328000000|2.242516E12         |0.0                |262835087000000|1177403108000000|53820229000000   |-58948506000000    |-33328689000000    |\n",
      "|PT Bank Capital Indonesia Tbk                  |BACA  |2024-12-31 |9.797E11         |151204000000   |151204000000    |109378000000  |65109000000   |22591205000000  |NULL                |NULL               |6623017000000  |15968188000000  |-1966979000000   |-57533000000       |3000000000000      |\n",
      "|PT Avia Avian Tbk                              |AVIA  |2024-12-31 |7471356000000    |3340750000000  |2068594000000   |1663699000000 |2329491000000 |11060975000000  |9189000000          |NULL               |9631880000000  |1429095000000   |1766128000000    |1262474000000      |-1933622000000     |\n",
      "|Astra Otoparts Tbk                             |AUTO  |2024-12-31 |19073703000000   |3065663000000  |2489163000000   |2182838000000 |3613091000000 |21030018000000  |505580000000        |56833000000        |15588124000000 |5441894000000   |1532735000000    |378693000000       |-1059822000000     |\n",
      "|Astra International Tbk                        |ASII  |2024-12-31 |330920000000000  |73557000000000 |53159000000000  |43424000000000|48439000000000|472925000000000 |11824000000000      |38141000000000     |271496000000000|201429000000000 |45029000000000   |-13045000000000    |-24966000000000    |\n",
      "|Astra Graphia Tbk                              |ASGR  |2024-12-31 |2814262000000    |649199000000   |256239000000    |204657000000  |1611060000000 |2948437000000   |8860000000          |NULL               |1925660000000  |1022777000000   |445751000000     |-17348000000       |-87921000000       |\n",
      "|Arwana Citramulia Tbk                          |ARNA  |2024-12-31 |2632310100626    |904337590572   |547992893943    |429538297212  |391886874111  |2661363620207   |106568230327        |0                  |1877542047769  |783821572438    |620902589832     |-194061134117      |-475743098268      |\n",
      "|Adira Dinamika Multi Finance Tbk               |ADMF  |2024-12-31 |9.021144E12      |1.800564E12    |1752316000000   |1406682000000 |181628000000  |32588191000000  |5.366086E12         |1.2193944E13       |11555744000000 |21032447000000  |461396000000     |-1147249000000     |804220000000       |\n",
      "|Astra Agro Lestari Tbk                         |AALI  |2024-12-31 |21815035000000   |3340621000000  |1707128000000   |1186783000000 |3236012000000 |28793225000000  |1689537000000       |1500000000000      |23202062000000 |5591163000000   |3379195000000    |-940603000000      |-1325763000000     |\n",
      "+-----------------------------------------------+------+-----------+-----------------+---------------+----------------+--------------+--------------+----------------+--------------------+-------------------+---------------+----------------+-----------------+-------------------+-------------------+\n",
      "\n"
     ]
    }
   ],
   "source": [
    "# =====================================\n",
    "# Combine all DataFrames and Sort\n",
    "# =====================================\n",
    "final_df = (\n",
    "    banks_df\n",
    "    .unionByName(financing_df)\n",
    "    .unionByName(investment_df) \n",
    "    .unionByName(insurance_df)\n",
    "    .unionByName(non_special_df)\n",
    ")\n",
    "\n",
    "# Sort by emiten name descending\n",
    "final_df.orderBy(\"emiten\", ascending=False).show(truncate=False, n=final_df.count())"
   ]
  },
  {
   "cell_type": "markdown",
   "id": "39e1b2a1",
   "metadata": {},
   "source": [
    "## Write Data ke MongoDB"
   ]
  },
  {
   "cell_type": "code",
   "execution_count": null,
   "id": "b96898f0",
   "metadata": {},
   "outputs": [],
   "source": [
    "\n",
    "STOCK_COLLECTION_OUTPUT = \"2024_transformed\"\n",
    "\n",
    "# Write final_df to MongoDB\n",
    "try:\n",
    "    final_df.write.format(\"mongo\") \\\n",
    "        .option(\"uri\", MONGO_URI) \\\n",
    "        .option(\"database\", DB_NAME) \\\n",
    "        .option(\"collection\", STOCK_COLLECTION_OUTPUT) \\\n",
    "        .mode(\"overwrite\") \\\n",
    "        .save()\n",
    "    print(\"Data successfully written to MongoDB.\")\n",
    "except Exception as e:\n",
    "    print(f\"An error occurred while writing to MongoDB: {e}\")"
   ]
  }
 ],
 "metadata": {
  "kernelspec": {
   "display_name": "Python 3",
   "language": "python",
   "name": "python3"
  },
  "language_info": {
   "codemirror_mode": {
    "name": "ipython",
    "version": 3
   },
   "file_extension": ".py",
   "mimetype": "text/x-python",
   "name": "python",
   "nbconvert_exporter": "python",
   "pygments_lexer": "ipython3",
   "version": "3.13.3"
  }
 },
 "nbformat": 4,
 "nbformat_minor": 5
}
